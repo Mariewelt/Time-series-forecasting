{
 "cells": [
  {
   "cell_type": "code",
   "execution_count": 1,
   "metadata": {
    "collapsed": false
   },
   "outputs": [
    {
     "name": "stderr",
     "output_type": "stream",
     "text": [
      "Using gpu device 0: GeForce GTX 970 (CNMeM is disabled, cuDNN 4007)\n"
     ]
    }
   ],
   "source": [
    "import csv\n",
    "import numpy as np\n",
    "%matplotlib inline\n",
    "import matplotlib.pyplot as plt\n",
    "import theano\n",
    "import theano.tensor as T\n",
    "import lasagne\n",
    "import pickle"
   ]
  },
  {
   "cell_type": "markdown",
   "metadata": {},
   "source": [
    "# Read and preprocess the data"
   ]
  },
  {
   "cell_type": "code",
   "execution_count": 2,
   "metadata": {
    "collapsed": false
   },
   "outputs": [],
   "source": [
    "# reading CSV file\n",
    "reader = csv.reader(open('data/SL2.csv', 'r'), delimiter=',')\n",
    "train = np.array(list(reader))\n",
    "reader = csv.reader(open('data/PL.csv', 'r'), delimiter=',')\n",
    "test = np.array(list(reader))"
   ]
  },
  {
   "cell_type": "code",
   "execution_count": 3,
   "metadata": {
    "collapsed": false
   },
   "outputs": [
    {
     "name": "stdout",
     "output_type": "stream",
     "text": [
      "[['' '' '' ..., '' '' '']\n",
      " ['Date' 'Day of the week' '1-workday, 2-Saturday, 3-Sunday, >4-untypical'\n",
      "  ..., 'Hour 22' 'Hour 23' 'Hour 24']\n",
      " ['19990101' '5' '4.01' ..., '364431' '357204' '324412']\n",
      " ..., \n",
      " ['20011229' '6' '2' ..., '431338' '412652' '376991']\n",
      " ['20011230' '7' '3' ..., '432592' '414905' '370274']\n",
      " ['20011231' '1' '4.13' ..., '408512' '403538' '383141']]\n"
     ]
    }
   ],
   "source": [
    "print train"
   ]
  },
  {
   "cell_type": "code",
   "execution_count": 4,
   "metadata": {
    "collapsed": false
   },
   "outputs": [
    {
     "name": "stdout",
     "output_type": "stream",
     "text": [
      "['Date' 'Day of the week' '1-workday, 2-Saturday, 3-Sunday, >4-untypical'\n",
      " 'Hour 1' 'Hour 2' 'Hour 3' 'Hour 4' 'Hour 5' 'Hour 6' 'Hour 7' 'Hour 8'\n",
      " 'Hour 9' 'Hour 10' 'Hour 11' 'Hour 12' 'Hour 13' 'Hour 14' 'Hour 15'\n",
      " 'Hour 16' 'Hour 17' 'Hour 18' 'Hour 19' 'Hour 20' 'Hour 21' 'Hour 22'\n",
      " 'Hour 23' 'Hour 24']\n"
     ]
    }
   ],
   "source": [
    "labels = test[1,:]\n",
    "print labels"
   ]
  },
  {
   "cell_type": "code",
   "execution_count": 5,
   "metadata": {
    "collapsed": false
   },
   "outputs": [],
   "source": [
    "train = np.delete(train, [0,1], 0)\n",
    "date_train = train[0, :]\n",
    "weekday_train = train[1, :]\n",
    "day_type_train = train[2, :]\n",
    "train_set = np.delete(train, [0,1,2], 1)"
   ]
  },
  {
   "cell_type": "code",
   "execution_count": 6,
   "metadata": {
    "collapsed": true
   },
   "outputs": [],
   "source": [
    "test = np.delete(test, [0,1], 0)\n",
    "date_test = test[0, :]\n",
    "weekday_test = test[1, :]\n",
    "day_type_test = test[2, :]\n",
    "test_set = np.delete(test, [0,1,2], 1)"
   ]
  },
  {
   "cell_type": "code",
   "execution_count": 7,
   "metadata": {
    "collapsed": false
   },
   "outputs": [],
   "source": [
    "train_set = np.array(train_set, dtype='float32')\n",
    "test_set = np.array(test_set, dtype='float32')"
   ]
  },
  {
   "cell_type": "code",
   "execution_count": 8,
   "metadata": {
    "collapsed": false
   },
   "outputs": [],
   "source": [
    "train_set = np.reshape(train_set, train_set.shape[0]*train_set.shape[1])\n",
    "test_set = np.reshape(test_set, test_set.shape[0]*test_set.shape[1])"
   ]
  },
  {
   "cell_type": "code",
   "execution_count": 9,
   "metadata": {
    "collapsed": false
   },
   "outputs": [
    {
     "data": {
      "text/plain": [
       "[<matplotlib.lines.Line2D at 0x7f8b09aa2150>]"
      ]
     },
     "execution_count": 9,
     "metadata": {},
     "output_type": "execute_result"
    },
    {
     "data": {
      "image/png": "[encoded data removed]",
      "text/plain": [
       "<matplotlib.figure.Figure at 0x7f8b4c1bc850>"
      ]
     },
     "metadata": {},
     "output_type": "display_data"
    }
   ],
   "source": [
    "plt.plot(train_set)"
   ]
  },
  {
   "cell_type": "code",
   "execution_count": 10,
   "metadata": {
    "collapsed": false
   },
   "outputs": [
    {
     "data": {
      "text/plain": [
       "[<matplotlib.lines.Line2D at 0x7f8b09999e50>]"
      ]
     },
     "execution_count": 10,
     "metadata": {},
     "output_type": "execute_result"
    },
    {
     "data": {
      "image/png": "[encoded data removed]",
      "text/plain": [
       "<matplotlib.figure.Figure at 0x7f8b086f7f90>"
      ]
     },
     "metadata": {},
     "output_type": "display_data"
    }
   ],
   "source": [
    "plt.plot(test_set)"
   ]
  },
  {
   "cell_type": "code",
   "execution_count": 11,
   "metadata": {
    "collapsed": true
   },
   "outputs": [],
   "source": [
    "def sample_random_batches(source,n_batches=10, seq_len=20):\n",
    "    \"\"\"\n",
    "    This function takes random subsequences from the time series.\n",
    "\n",
    "    Parameters:\n",
    "        source - initial time series\n",
    "        n_batches - how many subsequences are to be sampled\n",
    "        seq_len - length of each of such subsequences\n",
    "        \n",
    "    \n",
    "    Return:\n",
    "     X - a matrix of float32 with shape [n_batches,seq_len]\n",
    "        Each row of such matrix must be a subsequence of source \n",
    "            starting from random index (from 0 to N-seq_len-2)\n",
    "     Y - a vector, where i-th number is one going RIGHT AFTER i-th row from X from source\n",
    "     \n",
    "    \"\"\"\n",
    "    \n",
    "    X_batch = np.zeros(shape=(n_batches, seq_len))\n",
    "    y_batch = np.zeros(shape=(n_batches, 1))\n",
    "    for i in range(n_batches):\n",
    "        k = np.random.randint(0, len(source)-seq_len-1)\n",
    "        X_batch[i] = source[k:k+seq_len]\n",
    "        y_batch[i] = source[k+seq_len]\n",
    "    \n",
    "    return X_batch, y_batch"
   ]
  },
  {
   "cell_type": "markdown",
   "metadata": {},
   "source": [
    "# Constants"
   ]
  },
  {
   "cell_type": "code",
   "execution_count": 12,
   "metadata": {
    "collapsed": true
   },
   "outputs": [],
   "source": [
    "#Training sequence length\n",
    "seq_length = 100\n",
    "\n",
    "#max gradient between recurrent layer applications\n",
    "grad_clip = 100\n",
    "\n",
    "#values to be predicted\n",
    "pred_len = 1"
   ]
  },
  {
   "cell_type": "markdown",
   "metadata": {},
   "source": [
    "# Input values"
   ]
  },
  {
   "cell_type": "code",
   "execution_count": 13,
   "metadata": {
    "collapsed": false
   },
   "outputs": [],
   "source": [
    "input_sequence = T.matrix('input sequence')\n",
    "target_values = T.matrix('target y')"
   ]
  },
  {
   "cell_type": "markdown",
   "metadata": {},
   "source": [
    "# Neural network architecture"
   ]
  },
  {
   "cell_type": "code",
   "execution_count": 14,
   "metadata": {
    "collapsed": false
   },
   "outputs": [],
   "source": [
    "\n",
    "l_in = lasagne.layers.InputLayer(shape=(None, seq_length),input_var=input_sequence)\n",
    "\n",
    "l1 = lasagne.layers.ExpressionLayer(l_in, lambda X: X.mean(axis=1), output_shape=(None, 1))\n",
    "l1 = lasagne.layers.ReshapeLayer(l1, shape=(-1, 1))\n",
    "\n",
    "l2 = lasagne.layers.ExpressionLayer(l_in, lambda X: X.std(axis=1), output_shape=(None, 1))\n",
    "l2 = lasagne.layers.ReshapeLayer(l2, shape=(-1, 1))\n",
    "\n",
    "l3 = lasagne.layers.ExpressionLayer(l_in, lambda X: \n",
    "                                    ((X.reshape([1, X.shape[0]*X.shape[1]]) - T.repeat(X.mean(axis=1), seq_length))/\n",
    "                                     T.repeat(X.std(axis=1), seq_length)).reshape(X.shape),\n",
    "                                    output_shape=(None, seq_length))\n",
    "\n",
    "l4 = lasagne.layers.ReshapeLayer(l3, shape=(-1, seq_length, 1))\n",
    "\n",
    "#l_rnn = lasagne.layers.RecurrentLayer(l4, num_units=50, grad_clipping=grad_clip, \n",
    "#                                      nonlinearity=lasagne.nonlinearities.tanh)\n",
    "#l_rnn = lasagne.layers.RecurrentLayer(l_rnn, num_units=25, grad_clipping=grad_clip, \n",
    "#                                      nonlinearity=lasagne.nonlinearities.tanh)\n",
    "l_rnn = lasagne.layers.LSTMLayer(l4, num_units=50, grad_clipping=grad_clip, \n",
    "                                    nonlinearity=lasagne.nonlinearities.tanh)\n",
    "l_rnn = lasagne.layers.LSTMLayer(l_rnn, num_units=25, grad_clipping=grad_clip, \n",
    "                                    nonlinearity=lasagne.nonlinearities.tanh)\n",
    "#l_slice = lasagne.layers.SliceLayer(l_rnn, -1, 1)\n",
    "#l_dense = lasagne.layers.BatchNormLayer(l_slice)\n",
    "#l_dense = lasagne.layers.DenseLayer(l_dense, num_units=20, nonlinearity=lasagne.nonlinearities.tanh)\n",
    "#l_dense = lasagne.layers.BatchNormLayer(l_dense)\n",
    "#l_dense = lasagne.layers.DenseLayer(l_dense, num_units=10, nonlinearity=lasagne.nonlinearities.tanh)\n",
    "#l_dense = lasagne.layers.BatchNormLayer(l_dense)\n",
    "\n",
    "l_out_norm = lasagne.layers.DenseLayer(l_rnn, num_units=pred_len, nonlinearity=lasagne.nonlinearities.linear)\n",
    "\n",
    "l_out_mul = lasagne.layers.ElemwiseMergeLayer([l_out_norm, l2], merge_function = T.mul)\n",
    "l_out = lasagne.layers.ElemwiseSumLayer([l_out_mul, l1])"
   ]
  },
  {
   "cell_type": "code",
   "execution_count": 15,
   "metadata": {
    "collapsed": false
   },
   "outputs": [],
   "source": [
    "#a = theano.function([input_sequence], lasagne.layers.get_output(l4))"
   ]
  },
  {
   "cell_type": "code",
   "execution_count": 16,
   "metadata": {
    "collapsed": false,
    "scrolled": true
   },
   "outputs": [],
   "source": [
    "#print a([train_set[0:200], train_set[200:400]])"
   ]
  },
  {
   "cell_type": "code",
   "execution_count": 17,
   "metadata": {
    "collapsed": false
   },
   "outputs": [
    {
     "name": "stdout",
     "output_type": "stream",
     "text": [
      "[W_in_to_ingate, W_hid_to_ingate, b_ingate, W_in_to_forgetgate, W_hid_to_forgetgate, b_forgetgate, W_in_to_cell, W_hid_to_cell, b_cell, W_in_to_outgate, W_hid_to_outgate, b_outgate, W_cell_to_ingate, W_cell_to_forgetgate, W_cell_to_outgate, W_in_to_ingate, W_hid_to_ingate, b_ingate, W_in_to_forgetgate, W_hid_to_forgetgate, b_forgetgate, W_in_to_cell, W_hid_to_cell, b_cell, W_in_to_outgate, W_hid_to_outgate, b_outgate, W_cell_to_ingate, W_cell_to_forgetgate, W_cell_to_outgate, W, b]\n"
     ]
    }
   ],
   "source": [
    "# Model weights\n",
    "weights = lasagne.layers.get_all_params(l_out,trainable=True)\n",
    "print weights"
   ]
  },
  {
   "cell_type": "code",
   "execution_count": 18,
   "metadata": {
    "collapsed": false
   },
   "outputs": [],
   "source": [
    "network_output = lasagne.layers.get_output(l_out)\n",
    "#If you use dropout do not forget to create deterministic version for evaluation"
   ]
  },
  {
   "cell_type": "code",
   "execution_count": 19,
   "metadata": {
    "collapsed": true
   },
   "outputs": [],
   "source": [
    "network_output_norm = lasagne.layers.get_output(l_out_norm)"
   ]
  },
  {
   "cell_type": "code",
   "execution_count": 20,
   "metadata": {
    "collapsed": false
   },
   "outputs": [],
   "source": [
    "loss = T.mean(lasagne.objectives.squared_error(network_output, target_values))\n",
    "\n",
    "#updates = lasagne.updates.nesterov_momentum(loss, weights, learning_rate=2e-4, momentum=0.9)\n",
    "updates = lasagne.updates.adam(loss, weights, learning_rate=2e-4)"
   ]
  },
  {
   "cell_type": "markdown",
   "metadata": {},
   "source": [
    "# Compiling all functions"
   ]
  },
  {
   "cell_type": "code",
   "execution_count": 21,
   "metadata": {
    "collapsed": false
   },
   "outputs": [],
   "source": [
    "#training\n",
    "train = theano.function([input_sequence, target_values], loss, updates=updates, allow_input_downcast=True)\n",
    "\n",
    "#computing loss without training\n",
    "compute_cost = theano.function([input_sequence, target_values], loss, allow_input_downcast=True)\n",
    "\n",
    "# next character probabilities\n",
    "forecast = theano.function([input_sequence],network_output,allow_input_downcast=True)"
   ]
  },
  {
   "cell_type": "markdown",
   "metadata": {},
   "source": [
    "# Function for saving trained parameters"
   ]
  },
  {
   "cell_type": "code",
   "execution_count": 22,
   "metadata": {
    "collapsed": true
   },
   "outputs": [],
   "source": [
    "def checkpoint(name):\n",
    "    params = lasagne.layers.get_all_param_values(l_out)\n",
    "    pickle.dump(params, open(name, 'wb'))"
   ]
  },
  {
   "cell_type": "markdown",
   "metadata": {},
   "source": [
    "# Training loop"
   ]
  },
  {
   "cell_type": "code",
   "execution_count": 34,
   "metadata": {
    "collapsed": false,
    "scrolled": true
   },
   "outputs": [
    {
     "name": "stdout",
     "output_type": "stream",
     "text": [
      "Training ...\n",
      "Epoch 0 average loss = 109242418.52\n",
      "Epoch 1 average loss = 106903219.4\n",
      "Epoch 2 average loss = 102289761.8\n",
      "Epoch 3 average loss = 109360837.96\n",
      "Epoch 4 average loss = 112198658.72\n",
      "Epoch 5 average loss = 107616303.84\n",
      "Epoch 6 average loss = 108906229.8\n",
      "Epoch 7 average loss = 113084347.96\n",
      "Epoch 8 average loss = 107554513.96\n",
      "Epoch 9 average loss = 105951124.12\n",
      "Epoch 10 average loss = 109019693.16\n",
      "Epoch 11 average loss = 114390646.36\n",
      "Epoch 12 average loss = 129501091.92\n",
      "Epoch 13 average loss = 140063325.68\n",
      "Epoch 14 average loss = 137315299.68\n",
      "Epoch 15 average loss = 138690633.92\n",
      "Epoch 16 average loss = 158072754.08\n",
      "Epoch 17 average loss = 125426633.84\n",
      "Epoch 18 average loss = 116651909.84\n",
      "Epoch 19 average loss = 121653485.12\n",
      "Epoch 20 average loss = 109886074.52\n",
      "Epoch 21 average loss = 111840961.04\n",
      "Epoch 22 average loss = 113225423.92\n",
      "Epoch 23 average loss = 106781624.2\n",
      "Epoch 24 average loss = 108942925.08\n",
      "Epoch 25 average loss = 108098109.52\n",
      "Epoch 26 average loss = 108378272.68\n",
      "Epoch 27 average loss = 119857587.88\n",
      "Epoch 28 average loss = 101844614.32\n",
      "Epoch 29 average loss = 108963281.32\n",
      "Epoch 30 average loss = 113494788.48\n",
      "Epoch 31 average loss = 112155746.24\n",
      "Epoch 32 average loss = 123239672.2\n",
      "Epoch 33 average loss = 109384886.68\n",
      "Epoch 34 average loss = 104711181.52\n",
      "Epoch 35 average loss = 102109376.6\n",
      "Epoch 36 average loss = 103629516.36\n",
      "Epoch 37 average loss = 105437021.32\n",
      "Epoch 38 average loss = 108956295.4\n",
      "Epoch 39 average loss = 101146019.12\n",
      "Epoch 40 average loss = 104611507.36\n",
      "Epoch 41 average loss = 112773634.28\n",
      "Epoch 42 average loss = 135038074.56\n",
      "Epoch 43 average loss = 155715882.48\n",
      "Epoch 44 average loss = 149647742.8\n",
      "Epoch 45 average loss = 132824672.4\n",
      "Epoch 46 average loss = 126982778.0\n",
      "Epoch 47 average loss = 113401051.36\n",
      "Epoch 48 average loss = 140392775.6\n",
      "Epoch 49 average loss = 125873448.96\n",
      "Epoch 50 average loss = 114222210.32\n",
      "Epoch 51 average loss = 126622096.96\n",
      "Epoch 52 average loss = 130095588.96\n",
      "Epoch 53 average loss = 149901495.68\n",
      "Epoch 54 average loss = 123568442.0\n",
      "Epoch 55 average loss = 106285803.76\n",
      "Epoch 56 average loss = 125719123.68\n",
      "Epoch 57 average loss = 117465133.72\n",
      "Epoch 58 average loss = 110294246.36\n",
      "Epoch 59 average loss = 104501110.64\n",
      "Epoch 60 average loss = 104122778.44\n",
      "Epoch 61 average loss = 109261303.32\n",
      "Epoch 62 average loss = 107762900.6\n",
      "Epoch 63 average loss = 106643570.24\n",
      "Epoch 64 average loss = 115861677.6\n",
      "Epoch 65 average loss = 112322880.0\n",
      "Epoch 66 average loss = 117097479.08\n",
      "Epoch 67 average loss = 116561744.08\n",
      "Epoch 68 average loss = 121296991.04\n",
      "Epoch 69 average loss = 114694516.12\n",
      "Epoch 70 average loss = 110966996.48\n",
      "Epoch 71 average loss = 111351532.56\n",
      "Epoch 72 average loss = 109106140.56\n",
      "Epoch 73 average loss = 106442392.68\n",
      "Epoch 74 average loss = 111766525.04\n",
      "Epoch 75 average loss = 119055592.08\n",
      "Epoch 76 average loss = 124916887.92\n",
      "Epoch 77 average loss = 131635484.48\n",
      "Epoch 78 average loss = 140459108.0\n",
      "Epoch 79 average loss = 186531493.52\n",
      "Epoch 80 average loss = 216367451.68\n",
      "Epoch 81 average loss = 199173601.44\n",
      "Epoch 82 average loss = 175145201.36\n",
      "Epoch 83 average loss = 173526219.76\n",
      "Epoch 84 average loss = 176608194.32\n",
      "Epoch 85 average loss = 194554034.8\n",
      "Epoch 86 average loss = 173031606.64\n",
      "Epoch 87 average loss = 142184161.44\n",
      "Epoch 88 average loss = 140697579.68\n",
      "Epoch 89 average loss = 145005077.92\n",
      "Epoch 90 average loss = 137998372.08\n",
      "Epoch 91 average loss = 141876159.04\n",
      "Epoch 92 average loss = 139181563.6\n",
      "Epoch 93 average loss = 138218027.52\n",
      "Epoch 94 average loss = 139942698.24\n",
      "Epoch 95 average loss = 136914883.04\n",
      "Epoch 96 average loss = 150077810.16\n",
      "Epoch 97 average loss = 153118364.08\n",
      "Epoch 98 average loss = 176529054.24\n",
      "Epoch 99 average loss = 194253279.44\n"
     ]
    }
   ],
   "source": [
    "\n",
    "print(\"Training ...\")\n",
    "\n",
    "\n",
    "#total N iterations\n",
    "n_epochs=100\n",
    "\n",
    "# how many minibatches are there in the epoch \n",
    "batches_per_epoch = 100\n",
    "\n",
    "#how many training sequences are processed in a single function call\n",
    "batch_size=100\n",
    "\n",
    "\n",
    "for epoch in xrange(n_epochs):\n",
    "\n",
    "    avg_cost = 0;\n",
    "    \n",
    "    for _ in range(batches_per_epoch):\n",
    "        \n",
    "        x,y = sample_random_batches(train_set,batch_size,seq_length)\n",
    "        avg_cost += train(x, y)\n",
    "        \n",
    "    print(\"Epoch {} average loss = {}\".format(epoch, avg_cost / batches_per_epoch))\n"
   ]
  },
  {
   "cell_type": "markdown",
   "metadata": {},
   "source": [
    "# Testing perfomance"
   ]
  },
  {
   "cell_type": "code",
   "execution_count": 65,
   "metadata": {
    "collapsed": false
   },
   "outputs": [
    {
     "name": "stdout",
     "output_type": "stream",
     "text": [
      "Testing ...\n"
     ]
    }
   ],
   "source": [
    "print(\"Testing ...\")\n",
    "\n",
    "test_seq_len = 220\n",
    "\n",
    "x,y = sample_random_batches(test_set,1,test_seq_len)\n",
    "x_forecast = np.zeros((1, test_seq_len))\n",
    "x_cur = np.zeros((1, seq_length))\n",
    "x_forecast[:, 0:seq_length] = x[:, 0:seq_length] \n",
    "\n",
    "for start in xrange(test_seq_len-seq_length):\n",
    "\n",
    "    x_cur = x_forecast[:, start:start+seq_length]\n",
    "    x_forecast[:, start+seq_length] = forecast(x_cur)\n"
   ]
  },
  {
   "cell_type": "code",
   "execution_count": 66,
   "metadata": {
    "collapsed": false
   },
   "outputs": [
    {
     "data": {
      "text/plain": [
       "[<matplotlib.lines.Line2D at 0x7f8ae5fcb1d0>]"
      ]
     },
     "execution_count": 66,
     "metadata": {},
     "output_type": "execute_result"
    },
    {
     "data": {
      "image/png": "[encoded data removed]",
      "text/plain": [
       "<matplotlib.figure.Figure at 0x7f8ae5fcb190>"
      ]
     },
     "metadata": {},
     "output_type": "display_data"
    }
   ],
   "source": [
    "plt.plot(x[0])\n",
    "plt.plot(x_forecast[0])"
   ]
  },
  {
   "cell_type": "code",
   "execution_count": 67,
   "metadata": {
    "collapsed": false
   },
   "outputs": [],
   "source": [
    "checkpoint('Version 2.0')"
   ]
  },
  {
   "cell_type": "code",
   "execution_count": 68,
   "metadata": {
    "collapsed": false,
    "scrolled": false
   },
   "outputs": [
    {
     "name": "stdout",
     "output_type": "stream",
     "text": [
      "Testing ...\n",
      "Average loss [[ 271980.73430112]] on 100 test runs\n"
     ]
    }
   ],
   "source": [
    "\n",
    "print(\"Testing ...\")\n",
    "\n",
    "n_test_runs = 100\n",
    "avg_cost = 0;\n",
    "    \n",
    "for epoch in xrange(n_test_runs):\n",
    "\n",
    "    x,y = sample_random_batches(test_set,1,seq_length)\n",
    "    avg_cost = avg_cost + (y - forecast(x))**2\n",
    "    \n",
    "print(\"Average loss {} on {} test runs\".format(avg_cost / n_test_runs, n_test_runs))\n"
   ]
  },
  {
   "cell_type": "code",
   "execution_count": null,
   "metadata": {
    "collapsed": true
   },
   "outputs": [],
   "source": []
  }
 ],
 "metadata": {
  "kernelspec": {
   "display_name": "Python 2",
   "language": "python",
   "name": "python2"
  },
  "language_info": {
   "codemirror_mode": {
    "name": "ipython",
    "version": 2
   },
   "file_extension": ".py",
   "mimetype": "text/x-python",
   "name": "python",
   "nbconvert_exporter": "python",
   "pygments_lexer": "ipython2",
   "version": "2.7.11"
  }
 },
 "nbformat": 4,
 "nbformat_minor": 0
}
