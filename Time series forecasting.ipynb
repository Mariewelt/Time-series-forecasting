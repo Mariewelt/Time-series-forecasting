{
 "cells": [
  {
   "cell_type": "code",
   "execution_count": 1,
   "metadata": {
    "collapsed": false
   },
   "outputs": [
    {
     "name": "stderr",
     "output_type": "stream",
     "text": [
      "Using gpu device 0: GeForce GTX 970 (CNMeM is disabled, cuDNN 4007)\n"
     ]
    }
   ],
   "source": [
    "import csv\n",
    "import numpy as np\n",
    "%matplotlib inline\n",
    "import matplotlib.pyplot as plt\n",
    "import theano\n",
    "import theano.tensor as T\n",
    "import lasagne"
   ]
  },
  {
   "cell_type": "markdown",
   "metadata": {},
   "source": [
    "# Read and preprocess the data"
   ]
  },
  {
   "cell_type": "code",
   "execution_count": 2,
   "metadata": {
    "collapsed": false
   },
   "outputs": [],
   "source": [
    "# reading CSV file\n",
    "reader = csv.reader(open('data/SL2.csv', 'r'), delimiter=',')\n",
    "\n",
    "train = np.array(list(reader))\n",
    "reader = csv.reader(open('data/PL.csv', 'r'), delimiter=',')\n",
    "test = np.array(list(reader))"
   ]
  },
  {
   "cell_type": "code",
   "execution_count": 3,
   "metadata": {
    "collapsed": false
   },
   "outputs": [
    {
     "name": "stdout",
     "output_type": "stream",
     "text": [
      "[['' '' '' ..., '' '' '']\n",
      " ['Date' 'Day of the week' '1-workday, 2-Saturday, 3-Sunday, >4-untypical'\n",
      "  ..., 'Hour 22' 'Hour 23' 'Hour 24']\n",
      " ['19990101' '5' '4.01' ..., '364431' '357204' '324412']\n",
      " ..., \n",
      " ['20011229' '6' '2' ..., '431338' '412652' '376991']\n",
      " ['20011230' '7' '3' ..., '432592' '414905' '370274']\n",
      " ['20011231' '1' '4.13' ..., '408512' '403538' '383141']]\n"
     ]
    }
   ],
   "source": [
    "print train"
   ]
  },
  {
   "cell_type": "code",
   "execution_count": 4,
   "metadata": {
    "collapsed": false
   },
   "outputs": [
    {
     "name": "stdout",
     "output_type": "stream",
     "text": [
      "['Date' 'Day of the week' '1-workday, 2-Saturday, 3-Sunday, >4-untypical'\n",
      " 'Hour 1' 'Hour 2' 'Hour 3' 'Hour 4' 'Hour 5' 'Hour 6' 'Hour 7' 'Hour 8'\n",
      " 'Hour 9' 'Hour 10' 'Hour 11' 'Hour 12' 'Hour 13' 'Hour 14' 'Hour 15'\n",
      " 'Hour 16' 'Hour 17' 'Hour 18' 'Hour 19' 'Hour 20' 'Hour 21' 'Hour 22'\n",
      " 'Hour 23' 'Hour 24']\n"
     ]
    }
   ],
   "source": [
    "labels = test[1,:]\n",
    "print labels"
   ]
  },
  {
   "cell_type": "code",
   "execution_count": 5,
   "metadata": {
    "collapsed": false
   },
   "outputs": [],
   "source": [
    "train = np.delete(train, [0,1], 0)\n",
    "date_train = train[0, :]\n",
    "weekday_train = train[1, :]\n",
    "day_type_train = train[2, :]\n",
    "train_set = np.delete(train, [0,1,2], 1)"
   ]
  },
  {
   "cell_type": "code",
   "execution_count": 6,
   "metadata": {
    "collapsed": true
   },
   "outputs": [],
   "source": [
    "test = np.delete(test, [0,1], 0)\n",
    "date_test = test[0, :]\n",
    "weekday_test = test[1, :]\n",
    "day_type_test = test[2, :]\n",
    "test_set = np.delete(test, [0,1,2], 1)"
   ]
  },
  {
   "cell_type": "code",
   "execution_count": 7,
   "metadata": {
    "collapsed": false
   },
   "outputs": [],
   "source": [
    "train_set = np.array(train_set, dtype='float32')\n",
    "test_set = np.array(test_set, dtype='float32')"
   ]
  },
  {
   "cell_type": "code",
   "execution_count": 8,
   "metadata": {
    "collapsed": false
   },
   "outputs": [],
   "source": [
    "train_set = np.reshape(train_set, train_set.shape[0]*train_set.shape[1])\n",
    "test_set = np.reshape(test_set, test_set.shape[0]*test_set.shape[1])"
   ]
  },
  {
   "cell_type": "code",
   "execution_count": 9,
   "metadata": {
    "collapsed": true
   },
   "outputs": [],
   "source": [
    "#test_set = (test_set - train_set.mean())/train_set.std()\n",
    "#train_set = (train_set - train_set.mean())/train_set.std()"
   ]
  },
  {
   "cell_type": "code",
   "execution_count": 10,
   "metadata": {
    "collapsed": false
   },
   "outputs": [
    {
     "data": {
      "text/plain": [
       "[<matplotlib.lines.Line2D at 0x7f08f7196dd0>]"
      ]
     },
     "execution_count": 10,
     "metadata": {},
     "output_type": "execute_result"
    },
    {
     "data": {
      "image/png": "[encoded data removed]",
      "text/plain": [
       "<matplotlib.figure.Figure at 0x7f08f71baa90>"
      ]
     },
     "metadata": {},
     "output_type": "display_data"
    }
   ],
   "source": [
    "plt.plot(train_set)"
   ]
  },
  {
   "cell_type": "code",
   "execution_count": 11,
   "metadata": {
    "collapsed": false
   },
   "outputs": [
    {
     "data": {
      "text/plain": [
       "[<matplotlib.lines.Line2D at 0x7f08f4b1a610>]"
      ]
     },
     "execution_count": 11,
     "metadata": {},
     "output_type": "execute_result"
    },
    {
     "data": {
      "image/png": "[encoded data removed]",
      "text/plain": [
       "<matplotlib.figure.Figure at 0x7f08f702cd90>"
      ]
     },
     "metadata": {},
     "output_type": "display_data"
    }
   ],
   "source": [
    "plt.plot(test_set)"
   ]
  },
  {
   "cell_type": "code",
   "execution_count": 12,
   "metadata": {
    "collapsed": true
   },
   "outputs": [],
   "source": [
    "def sample_random_batches(source,n_batches=10, seq_len=20):\n",
    "    \"\"\"\n",
    "    This function takes random subsequences from the time series.\n",
    "\n",
    "    Parameters:\n",
    "        source - initial time series\n",
    "        n_batches - how many subsequences are to be sampled\n",
    "        seq_len - length of each of such subsequences\n",
    "        \n",
    "    \n",
    "    Return:\n",
    "     X - a matrix of float32 with shape [n_batches,seq_len]\n",
    "        Each row of such matrix must be a subsequence of source \n",
    "            starting from random index (from 0 to N-seq_len-2)\n",
    "     Y - a vector, where i-th number is one going RIGHT AFTER i-th row from X from source\n",
    "     \n",
    "    \"\"\"\n",
    "    \n",
    "    X_batch = np.zeros(shape=(n_batches, seq_len))\n",
    "    y_batch = np.zeros(shape=(n_batches, 1))\n",
    "    for i in range(n_batches):\n",
    "        k = np.random.randint(0, len(source)-seq_len-1)\n",
    "        X_batch[i] = source[k:k+seq_len]\n",
    "        y_batch[i] = source[k+seq_len]\n",
    "    \n",
    "    return X_batch, y_batch"
   ]
  },
  {
   "cell_type": "markdown",
   "metadata": {},
   "source": [
    "# Constants"
   ]
  },
  {
   "cell_type": "code",
   "execution_count": 13,
   "metadata": {
    "collapsed": true
   },
   "outputs": [],
   "source": [
    "#Training sequence length\n",
    "seq_length = 40\n",
    "\n",
    "#max gradient between recurrent layer applications\n",
    "grad_clip = 100\n",
    "\n",
    "#values to be predicted\n",
    "pred_len = 1"
   ]
  },
  {
   "cell_type": "markdown",
   "metadata": {},
   "source": [
    "# Input values"
   ]
  },
  {
   "cell_type": "code",
   "execution_count": 14,
   "metadata": {
    "collapsed": false
   },
   "outputs": [],
   "source": [
    "input_sequence = T.matrix('input sequence')\n",
    "target_values = T.matrix('target y')"
   ]
  },
  {
   "cell_type": "markdown",
   "metadata": {},
   "source": [
    "# Neural network architecture"
   ]
  },
  {
   "cell_type": "code",
   "execution_count": 16,
   "metadata": {
    "collapsed": false
   },
   "outputs": [],
   "source": [
    "\n",
    "l_in = lasagne.layers.InputLayer(shape=(None, seq_length),input_var=input_sequence)\n",
    "\n",
    "l1 = lasagne.layers.ExpressionLayer(l_in, lambda X: X.mean(axis=1), output_shape=(None, 1))\n",
    "l1 = lasagne.layers.ReshapeLayer(l1, shape=(-1, 1))\n",
    "\n",
    "l2 = lasagne.layers.ExpressionLayer(l_in, lambda X: X.std(axis=1), output_shape=(None, 1))\n",
    "l2 = lasagne.layers.ReshapeLayer(l2, shape=(-1, 1))\n",
    "\n",
    "l3 = lasagne.layers.ExpressionLayer(l_in, lambda X: \n",
    "                                    ((X.reshape([1, X.shape[0]*X.shape[1]]) - T.repeat(X.mean(axis=1), seq_length))/\n",
    "                                     T.repeat(X.std(axis=1), seq_length)).reshape(X.shape),\n",
    "                                    output_shape=(None, seq_length))\n",
    "\n",
    "l4 = lasagne.layers.ReshapeLayer(l3, shape=(-1, seq_length, 1))\n",
    "\n",
    "#l_rnn = lasagne.layers.RecurrentLayer(l4, num_units=32, grad_clipping=grad_clip, \n",
    "#                                      nonlinearity=lasagne.nonlinearities.tanh)\n",
    "#l_rnn = lasagne.layers.RecurrentLayer(l_rnn, num_units=32, grad_clipping=grad_clip, \n",
    "#                                      nonlinearity=lasagne.nonlinearities.tanh)\n",
    "l_rnn = lasagne.layers.LSTMLayer(l4, num_units=256, grad_clipping=grad_clip, \n",
    "                                    nonlinearity=lasagne.nonlinearities.tanh)\n",
    "l_rnn = lasagne.layers.LSTMLayer(l_rnn, num_units=128, grad_clipping=grad_clip, \n",
    "                                    nonlinearity=lasagne.nonlinearities.tanh)\n",
    "l_slice = lasagne.layers.SliceLayer(l_rnn, -1, 1)\n",
    "l_dense = lasagne.layers.BatchNormLayer(l_slice)\n",
    "l_dense = lasagne.layers.DenseLayer(l_dense, num_units=20, nonlinearity=lasagne.nonlinearities.tanh)\n",
    "l_dense = lasagne.layers.BatchNormLayer(l_dense)\n",
    "#l_dense = lasagne.layers.DenseLayer(l_dense, num_units=10, nonlinearity=lasagne.nonlinearities.tanh)\n",
    "#l_dense = lasagne.layers.BatchNormLayer(l_dense)\n",
    "\n",
    "l_out_norm = lasagne.layers.DenseLayer(l_dense, num_units=pred_len, nonlinearity=lasagne.nonlinearities.tanh)\n",
    "\n",
    "l_out_mul = lasagne.layers.ElemwiseMergeLayer([l_out_norm, l2], merge_function = T.mul)\n",
    "l_out = lasagne.layers.ElemwiseSumLayer([l_out_mul, l1])"
   ]
  },
  {
   "cell_type": "code",
   "execution_count": 17,
   "metadata": {
    "collapsed": false
   },
   "outputs": [],
   "source": [
    "a = theano.function([input_sequence], lasagne.layers.get_output(l_out))"
   ]
  },
  {
   "cell_type": "code",
   "execution_count": 18,
   "metadata": {
    "collapsed": false
   },
   "outputs": [
    {
     "name": "stdout",
     "output_type": "stream",
     "text": [
      "[[ 329095.23213729]\n",
      " [ 384010.17081078]]\n"
     ]
    }
   ],
   "source": [
    "print a([train_set[0:40], train_set[100:140]])"
   ]
  },
  {
   "cell_type": "code",
   "execution_count": 19,
   "metadata": {
    "collapsed": false
   },
   "outputs": [
    {
     "name": "stdout",
     "output_type": "stream",
     "text": [
      "[W_in_to_ingate, W_hid_to_ingate, b_ingate, W_in_to_forgetgate, W_hid_to_forgetgate, b_forgetgate, W_in_to_cell, W_hid_to_cell, b_cell, W_in_to_outgate, W_hid_to_outgate, b_outgate, W_cell_to_ingate, W_cell_to_forgetgate, W_cell_to_outgate, W_in_to_ingate, W_hid_to_ingate, b_ingate, W_in_to_forgetgate, W_hid_to_forgetgate, b_forgetgate, W_in_to_cell, W_hid_to_cell, b_cell, W_in_to_outgate, W_hid_to_outgate, b_outgate, W_cell_to_ingate, W_cell_to_forgetgate, W_cell_to_outgate, beta, gamma, W, b, beta, gamma, W, b]\n"
     ]
    }
   ],
   "source": [
    "# Model weights\n",
    "weights = lasagne.layers.get_all_params(l_out,trainable=True)\n",
    "print weights"
   ]
  },
  {
   "cell_type": "code",
   "execution_count": 20,
   "metadata": {
    "collapsed": false
   },
   "outputs": [],
   "source": [
    "network_output = lasagne.layers.get_output(l_out)\n",
    "#If you use dropout do not forget to create deterministic version for evaluation"
   ]
  },
  {
   "cell_type": "code",
   "execution_count": 21,
   "metadata": {
    "collapsed": true
   },
   "outputs": [],
   "source": [
    "network_output_norm = lasagne.layers.get_output(l_out_norm)"
   ]
  },
  {
   "cell_type": "code",
   "execution_count": 22,
   "metadata": {
    "collapsed": false
   },
   "outputs": [],
   "source": [
    "loss = T.mean(lasagne.objectives.squared_error(network_output, target_values))\n",
    "\n",
    "#updates = lasagne.updates.nesterov_momentum(loss, weights, learning_rate=2*10e-4, momentum=0.9)\n",
    "updates = lasagne.updates.adagrad(loss, weights, learning_rate=8e-3)"
   ]
  },
  {
   "cell_type": "markdown",
   "metadata": {},
   "source": [
    "# Compiling all functions"
   ]
  },
  {
   "cell_type": "code",
   "execution_count": null,
   "metadata": {
    "collapsed": false
   },
   "outputs": [],
   "source": [
    "#training\n",
    "train = theano.function([input_sequence, target_values], loss, updates=updates, allow_input_downcast=True)\n",
    "\n",
    "#computing loss without training\n",
    "compute_cost = theano.function([input_sequence, target_values], loss, allow_input_downcast=True)\n",
    "\n",
    "# next character probabilities\n",
    "forecast = theano.function([input_sequence],network_output,allow_input_downcast=True)"
   ]
  },
  {
   "cell_type": "markdown",
   "metadata": {},
   "source": [
    "# Training loop"
   ]
  },
  {
   "cell_type": "code",
   "execution_count": null,
   "metadata": {
    "collapsed": false,
    "scrolled": true
   },
   "outputs": [],
   "source": [
    "\n",
    "print(\"Training ...\")\n",
    "\n",
    "\n",
    "#total N iterations\n",
    "n_epochs=100\n",
    "\n",
    "# how many minibatches are there in the epoch \n",
    "batches_per_epoch = 100\n",
    "\n",
    "#how many training sequences are processed in a single function call\n",
    "batch_size=100\n",
    "\n",
    "\n",
    "for epoch in xrange(n_epochs):\n",
    "\n",
    "    avg_cost = 0;\n",
    "    \n",
    "    for _ in range(batches_per_epoch):\n",
    "        \n",
    "        x,y = sample_random_batches(train_set,batch_size,seq_length)\n",
    "        avg_cost += train(x, y)\n",
    "        \n",
    "    print(\"Epoch {} average loss = {}\".format(epoch, avg_cost / batches_per_epoch))\n"
   ]
  },
  {
   "cell_type": "markdown",
   "metadata": {},
   "source": [
    "# Testing perfomance"
   ]
  },
  {
   "cell_type": "code",
   "execution_count": 22,
   "metadata": {
    "collapsed": false,
    "scrolled": true
   },
   "outputs": [
    {
     "name": "stdout",
     "output_type": "stream",
     "text": [
      "Testing ...\n"
     ]
    },
    {
     "ename": "ValueError",
     "evalue": "Input dimension mis-match. (input[0].shape[1] = 1, input[2].shape[1] = 40)\nApply node that caused the error: Elemwise{Composite{((tanh((i0 + i1)) * i2) + i3)}}[(0, 0)](Dot22.0, InplaceDimShuffle{x,0}.0, Elemwise{Composite{sqrt((i0 / i1))}}[(0, 0)].0, mean)\nToposort index: 71\nInputs types: [TensorType(float64, matrix), TensorType(float64, row), TensorType(float64, row), TensorType(float64, row)]\nInputs shapes: [(1, 1), (1, 1), (1, 40), (1, 40)]\nInputs strides: [(8, 8), (8, 8), (320, 8), (320, 8)]\nInputs values: [array([[ nan]]), array([[ 0.]]), 'not shown', 'not shown']\nOutputs clients: [['output']]\n\nHINT: Re-running with most Theano optimization disabled could give you a back-trace of when this node was created. This can be done with by setting the Theano flag 'optimizer=fast_compile'. If that does not work, Theano optimizations can be disabled with 'optimizer=None'.\nHINT: Use the Theano flag 'exception_verbosity=high' for a debugprint and storage map footprint of this apply node.",
     "output_type": "error",
     "traceback": [
      "\u001b[1;31m---------------------------------------------------------------------------\u001b[0m",
      "\u001b[1;31mValueError\u001b[0m                                Traceback (most recent call last)",
      "\u001b[1;32m<ipython-input-22-0cf0d5a60a0b>\u001b[0m in \u001b[0;36m<module>\u001b[1;34m()\u001b[0m\n\u001b[0;32m      8\u001b[0m \u001b[1;33m\u001b[0m\u001b[0m\n\u001b[0;32m      9\u001b[0m     \u001b[0mx\u001b[0m\u001b[1;33m,\u001b[0m\u001b[0my\u001b[0m \u001b[1;33m=\u001b[0m \u001b[0msample_random_batches\u001b[0m\u001b[1;33m(\u001b[0m\u001b[0mtest_set\u001b[0m\u001b[1;33m,\u001b[0m\u001b[1;36m1\u001b[0m\u001b[1;33m,\u001b[0m\u001b[0mseq_length\u001b[0m\u001b[1;33m)\u001b[0m\u001b[1;33m\u001b[0m\u001b[0m\n\u001b[1;32m---> 10\u001b[1;33m     \u001b[0mavg_cost\u001b[0m \u001b[1;33m=\u001b[0m \u001b[0mavg_cost\u001b[0m \u001b[1;33m+\u001b[0m \u001b[1;33m(\u001b[0m\u001b[0my\u001b[0m \u001b[1;33m-\u001b[0m \u001b[0mforecast\u001b[0m\u001b[1;33m(\u001b[0m\u001b[0mx\u001b[0m\u001b[1;33m)\u001b[0m\u001b[1;33m)\u001b[0m\u001b[1;33m**\u001b[0m\u001b[1;36m2\u001b[0m\u001b[1;33m\u001b[0m\u001b[0m\n\u001b[0m\u001b[0;32m     11\u001b[0m \u001b[1;33m\u001b[0m\u001b[0m\n\u001b[0;32m     12\u001b[0m \u001b[1;32mprint\u001b[0m\u001b[1;33m(\u001b[0m\u001b[1;34m\"Average loss {} on {} test runs\"\u001b[0m\u001b[1;33m.\u001b[0m\u001b[0mformat\u001b[0m\u001b[1;33m(\u001b[0m\u001b[0mavg_cost\u001b[0m \u001b[1;33m/\u001b[0m \u001b[0mn_test_runs\u001b[0m\u001b[1;33m,\u001b[0m \u001b[0mn_test_runs\u001b[0m\u001b[1;33m)\u001b[0m\u001b[1;33m)\u001b[0m\u001b[1;33m\u001b[0m\u001b[0m\n",
      "\u001b[1;32m/home/user/anaconda2/lib/python2.7/site-packages/theano/compile/function_module.pyc\u001b[0m in \u001b[0;36m__call__\u001b[1;34m(self, *args, **kwargs)\u001b[0m\n\u001b[0;32m    910\u001b[0m                     \u001b[0mnode\u001b[0m\u001b[1;33m=\u001b[0m\u001b[0mself\u001b[0m\u001b[1;33m.\u001b[0m\u001b[0mfn\u001b[0m\u001b[1;33m.\u001b[0m\u001b[0mnodes\u001b[0m\u001b[1;33m[\u001b[0m\u001b[0mself\u001b[0m\u001b[1;33m.\u001b[0m\u001b[0mfn\u001b[0m\u001b[1;33m.\u001b[0m\u001b[0mposition_of_error\u001b[0m\u001b[1;33m]\u001b[0m\u001b[1;33m,\u001b[0m\u001b[1;33m\u001b[0m\u001b[0m\n\u001b[0;32m    911\u001b[0m                     \u001b[0mthunk\u001b[0m\u001b[1;33m=\u001b[0m\u001b[0mthunk\u001b[0m\u001b[1;33m,\u001b[0m\u001b[1;33m\u001b[0m\u001b[0m\n\u001b[1;32m--> 912\u001b[1;33m                     storage_map=getattr(self.fn, 'storage_map', None))\n\u001b[0m\u001b[0;32m    913\u001b[0m             \u001b[1;32melse\u001b[0m\u001b[1;33m:\u001b[0m\u001b[1;33m\u001b[0m\u001b[0m\n\u001b[0;32m    914\u001b[0m                 \u001b[1;31m# old-style linkers raise their own exceptions\u001b[0m\u001b[1;33m\u001b[0m\u001b[1;33m\u001b[0m\u001b[0m\n",
      "\u001b[1;32m/home/user/anaconda2/lib/python2.7/site-packages/theano/gof/link.pyc\u001b[0m in \u001b[0;36mraise_with_op\u001b[1;34m(node, thunk, exc_info, storage_map)\u001b[0m\n\u001b[0;32m    312\u001b[0m         \u001b[1;31m# extra long error message in that case.\u001b[0m\u001b[1;33m\u001b[0m\u001b[1;33m\u001b[0m\u001b[0m\n\u001b[0;32m    313\u001b[0m         \u001b[1;32mpass\u001b[0m\u001b[1;33m\u001b[0m\u001b[0m\n\u001b[1;32m--> 314\u001b[1;33m     \u001b[0mreraise\u001b[0m\u001b[1;33m(\u001b[0m\u001b[0mexc_type\u001b[0m\u001b[1;33m,\u001b[0m \u001b[0mexc_value\u001b[0m\u001b[1;33m,\u001b[0m \u001b[0mexc_trace\u001b[0m\u001b[1;33m)\u001b[0m\u001b[1;33m\u001b[0m\u001b[0m\n\u001b[0m\u001b[0;32m    315\u001b[0m \u001b[1;33m\u001b[0m\u001b[0m\n\u001b[0;32m    316\u001b[0m \u001b[1;33m\u001b[0m\u001b[0m\n",
      "\u001b[1;32m/home/user/anaconda2/lib/python2.7/site-packages/theano/compile/function_module.pyc\u001b[0m in \u001b[0;36m__call__\u001b[1;34m(self, *args, **kwargs)\u001b[0m\n\u001b[0;32m    897\u001b[0m         \u001b[1;32mtry\u001b[0m\u001b[1;33m:\u001b[0m\u001b[1;33m\u001b[0m\u001b[0m\n\u001b[0;32m    898\u001b[0m             \u001b[0moutputs\u001b[0m \u001b[1;33m=\u001b[0m\u001b[0;31m\\\u001b[0m\u001b[1;33m\u001b[0m\u001b[0m\n\u001b[1;32m--> 899\u001b[1;33m                 \u001b[0mself\u001b[0m\u001b[1;33m.\u001b[0m\u001b[0mfn\u001b[0m\u001b[1;33m(\u001b[0m\u001b[1;33m)\u001b[0m \u001b[1;32mif\u001b[0m \u001b[0moutput_subset\u001b[0m \u001b[1;32mis\u001b[0m \u001b[0mNone\u001b[0m \u001b[1;32melse\u001b[0m\u001b[0;31m\\\u001b[0m\u001b[1;33m\u001b[0m\u001b[0m\n\u001b[0m\u001b[0;32m    900\u001b[0m                 \u001b[0mself\u001b[0m\u001b[1;33m.\u001b[0m\u001b[0mfn\u001b[0m\u001b[1;33m(\u001b[0m\u001b[0moutput_subset\u001b[0m\u001b[1;33m=\u001b[0m\u001b[0moutput_subset\u001b[0m\u001b[1;33m)\u001b[0m\u001b[1;33m\u001b[0m\u001b[0m\n\u001b[0;32m    901\u001b[0m         \u001b[1;32mexcept\u001b[0m \u001b[0mException\u001b[0m\u001b[1;33m:\u001b[0m\u001b[1;33m\u001b[0m\u001b[0m\n",
      "\u001b[1;31mValueError\u001b[0m: Input dimension mis-match. (input[0].shape[1] = 1, input[2].shape[1] = 40)\nApply node that caused the error: Elemwise{Composite{((tanh((i0 + i1)) * i2) + i3)}}[(0, 0)](Dot22.0, InplaceDimShuffle{x,0}.0, Elemwise{Composite{sqrt((i0 / i1))}}[(0, 0)].0, mean)\nToposort index: 71\nInputs types: [TensorType(float64, matrix), TensorType(float64, row), TensorType(float64, row), TensorType(float64, row)]\nInputs shapes: [(1, 1), (1, 1), (1, 40), (1, 40)]\nInputs strides: [(8, 8), (8, 8), (320, 8), (320, 8)]\nInputs values: [array([[ nan]]), array([[ 0.]]), 'not shown', 'not shown']\nOutputs clients: [['output']]\n\nHINT: Re-running with most Theano optimization disabled could give you a back-trace of when this node was created. This can be done with by setting the Theano flag 'optimizer=fast_compile'. If that does not work, Theano optimizations can be disabled with 'optimizer=None'.\nHINT: Use the Theano flag 'exception_verbosity=high' for a debugprint and storage map footprint of this apply node."
     ]
    }
   ],
   "source": [
    "\n",
    "print(\"Testing ...\")\n",
    "\n",
    "n_test_runs = 100\n",
    "avg_cost = 0;\n",
    "    \n",
    "for epoch in xrange(n_test_runs):\n",
    "\n",
    "    x,y = sample_random_batches(test_set,1,seq_length)\n",
    "    avg_cost = avg_cost + (y - forecast(x))**2\n",
    "    \n",
    "print(\"Average loss {} on {} test runs\".format(avg_cost / n_test_runs, n_test_runs))\n"
   ]
  },
  {
   "cell_type": "code",
   "execution_count": 32,
   "metadata": {
    "collapsed": false
   },
   "outputs": [
    {
     "name": "stdout",
     "output_type": "stream",
     "text": [
      "[ 15495.47460938  14972.75        14466.90039062 ...,  16022.875       15652.\n",
      "  15141.90039062]\n"
     ]
    }
   ],
   "source": [
    "print test_set"
   ]
  },
  {
   "cell_type": "code",
   "execution_count": null,
   "metadata": {
    "collapsed": true
   },
   "outputs": [],
   "source": []
  }
 ],
 "metadata": {
  "kernelspec": {
   "display_name": "Python 2",
   "language": "python",
   "name": "python2"
  },
  "language_info": {
   "codemirror_mode": {
    "name": "ipython",
    "version": 2
   },
   "file_extension": ".py",
   "mimetype": "text/x-python",
   "name": "python",
   "nbconvert_exporter": "python",
   "pygments_lexer": "ipython2",
   "version": "2.7.11"
  }
 },
 "nbformat": 4,
 "nbformat_minor": 0
}
